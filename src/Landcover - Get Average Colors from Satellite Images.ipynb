{
 "cells": [
  {
   "cell_type": "markdown",
   "metadata": {},
   "source": [
    "### Import"
   ]
  },
  {
   "cell_type": "code",
   "execution_count": 30,
   "metadata": {
    "collapsed": false
   },
   "outputs": [],
   "source": [
    "%matplotlib inline\n",
    "import pandas as pd\n",
    "import numpy as np\n",
    "import sys,os,re,csv,glob,collections,itertools,pickle,datetime\n",
    "import dateutil\n",
    "import igraph\n",
    "import shapefile\n",
    "import numpy.ma as ma\n",
    "import matplotlib\n",
    "import scipy\n",
    "import matplotlib.pyplot as plt\n",
    "import matplotlib.patches as patches\n",
    "import matplotlib.colors as mcolors\n",
    "import gdal\n",
    "import scipy.io\n",
    "import matplotlib.image as mpimg"
   ]
  },
  {
   "cell_type": "markdown",
   "metadata": {},
   "source": [
    "### Find the available files"
   ]
  },
  {
   "cell_type": "code",
   "execution_count": 31,
   "metadata": {
    "collapsed": false
   },
   "outputs": [],
   "source": [
    "#Find Available Files for Empty Patches\n",
    "categories = []\n",
    "for i in range(16):\n",
    "    filelist = []\n",
    "    for root, dirs, files in os.walk('../data/landCoverNet/raw/' + str(i+1) + '/', topdown=False):\n",
    "        for name in files:\n",
    "            filelist.append(os.path.join(root, name))\n",
    "    categories.append(filelist)"
   ]
  },
  {
   "cell_type": "markdown",
   "metadata": {
    "collapsed": false
   },
   "source": [
    "### Load Random Set of images"
   ]
  },
  {
   "cell_type": "code",
   "execution_count": 44,
   "metadata": {
    "collapsed": false
   },
   "outputs": [],
   "source": [
    "nRaw = 40\n",
    "randindices = np.random.permutation(nRaw)\n",
    "C = np.zeros((17,3))\n",
    "C[0,:] = [48,88,148]\n",
    "for m,filelist in enumerate(categories):\n",
    "    colors = []\n",
    "    for i in range(len(randindices)):\n",
    "        index = randindices[i]\n",
    "        imagename = filelist[index]\n",
    "        img = mpimg.imread(imagename)\n",
    "        img = np.mean(img,axis=0)\n",
    "        colors.append(np.mean(img,axis=0))\n",
    "    colors = np.array(colors)\n",
    "    colors = np.mean(colors,axis=0)\n",
    "    C[m+1,:] = colors\n",
    "C[13,:] = [256.0,0.0,0.0]"
   ]
  },
  {
   "cell_type": "code",
   "execution_count": 45,
   "metadata": {
    "collapsed": false
   },
   "outputs": [],
   "source": [
    "with open('../data/colors.txt','w') as f:\n",
    "    for i in range(17):\n",
    "        f.write(str(C[i,0]) + ',' + str(C[i,1]) + ',' + str(C[i,2]) + '\\n')"
   ]
  },
  {
   "cell_type": "code",
   "execution_count": null,
   "metadata": {
    "collapsed": true
   },
   "outputs": [],
   "source": []
  }
 ],
 "metadata": {
  "kernelspec": {
   "display_name": "Python 2",
   "language": "python",
   "name": "python2"
  },
  "language_info": {
   "codemirror_mode": {
    "name": "ipython",
    "version": 2
   },
   "file_extension": ".py",
   "mimetype": "text/x-python",
   "name": "python",
   "nbconvert_exporter": "python",
   "pygments_lexer": "ipython2",
   "version": "2.7.10"
  }
 },
 "nbformat": 4,
 "nbformat_minor": 0
}
