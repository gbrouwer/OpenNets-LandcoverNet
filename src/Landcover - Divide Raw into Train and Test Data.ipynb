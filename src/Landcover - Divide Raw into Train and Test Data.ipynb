{
 "cells": [
  {
   "cell_type": "markdown",
   "metadata": {},
   "source": [
    "### Import"
   ]
  },
  {
   "cell_type": "code",
   "execution_count": 21,
   "metadata": {
    "collapsed": false
   },
   "outputs": [],
   "source": [
    "%matplotlib inline\n",
    "import pandas as pd\n",
    "import numpy as np\n",
    "import sys,os,re,csv,glob,collections,itertools,pickle,datetime\n",
    "import dateutil\n",
    "import igraph\n",
    "import shapefile\n",
    "import numpy.ma as ma\n",
    "import matplotlib\n",
    "import scipy\n",
    "import matplotlib.pyplot as plt\n",
    "import matplotlib.patches as patches\n",
    "import matplotlib.colors as mcolors\n",
    "import gdal\n",
    "import scipy.io\n",
    "import matplotlib.image as mpimg"
   ]
  },
  {
   "cell_type": "markdown",
   "metadata": {},
   "source": [
    "### Divide Training / Validation Ratio"
   ]
  },
  {
   "cell_type": "code",
   "execution_count": 22,
   "metadata": {
    "collapsed": true
   },
   "outputs": [],
   "source": [
    "divideRatio = 0.8"
   ]
  },
  {
   "cell_type": "markdown",
   "metadata": {},
   "source": [
    "### Find the available files"
   ]
  },
  {
   "cell_type": "code",
   "execution_count": 23,
   "metadata": {
    "collapsed": false
   },
   "outputs": [],
   "source": [
    "#Find Available Files for Empty Patches\n",
    "categories = []\n",
    "for i in range(16):\n",
    "    filelist = []\n",
    "    for root, dirs, files in os.walk('../data/landCoverNet/raw/' + str(i+1) + '/', topdown=False):\n",
    "        for name in files:\n",
    "            filelist.append(os.path.join(root, name))\n",
    "    categories.append(filelist)"
   ]
  },
  {
   "cell_type": "markdown",
   "metadata": {},
   "source": [
    "### Divide into train and validation"
   ]
  },
  {
   "cell_type": "code",
   "execution_count": 24,
   "metadata": {
    "collapsed": false
   },
   "outputs": [],
   "source": [
    "#Create a random permuration of the images\n",
    "nRaw = 4000\n",
    "randindices = np.random.permutation(nRaw)\n",
    "divider = int(np.round(nRaw*divideRatio))\n",
    "trainIndices = randindices[:divider]\n",
    "valIndices = randindices[divider:]"
   ]
  },
  {
   "cell_type": "code",
   "execution_count": 25,
   "metadata": {
    "collapsed": false
   },
   "outputs": [],
   "source": [
    "#Delete Previous Data and create directories\n",
    "os.system('rm -rf ../data/landCoverNet/train/');\n",
    "os.system('rm -rf ../data/landCoverNet/val/');\n",
    "for i in range(16):\n",
    "    os.system('mkdir -p ../data/landCoverNet/val/' + str(i+1))\n",
    "    os.system('mkdir -p ../data/landCoverNet/train/' + str(i+1))"
   ]
  },
  {
   "cell_type": "code",
   "execution_count": 26,
   "metadata": {
    "collapsed": false
   },
   "outputs": [],
   "source": [
    "#Copy train indices images over\n",
    "for filelist in categories:\n",
    "    for i in range(len(trainIndices)):\n",
    "        index = trainIndices[i]\n",
    "        orig = filelist[index]\n",
    "        dest = orig.replace('raw','train')\n",
    "        os.system('cp ' + orig + ' ' + dest)"
   ]
  },
  {
   "cell_type": "code",
   "execution_count": 27,
   "metadata": {
    "collapsed": true
   },
   "outputs": [],
   "source": [
    "#Copy train indices images over\n",
    "for filelist in categories:\n",
    "    for i in range(len(valIndices)):\n",
    "        index = valIndices[i]\n",
    "        orig = filelist[index]\n",
    "        dest = orig.replace('raw','val')\n",
    "        os.system('cp ' + orig + ' ' + dest)"
   ]
  },
  {
   "cell_type": "code",
   "execution_count": null,
   "metadata": {
    "collapsed": true
   },
   "outputs": [],
   "source": []
  }
 ],
 "metadata": {
  "kernelspec": {
   "display_name": "Python 2",
   "language": "python",
   "name": "python2"
  },
  "language_info": {
   "codemirror_mode": {
    "name": "ipython",
    "version": 2
   },
   "file_extension": ".py",
   "mimetype": "text/x-python",
   "name": "python",
   "nbconvert_exporter": "python",
   "pygments_lexer": "ipython2",
   "version": "2.7.10"
  }
 },
 "nbformat": 4,
 "nbformat_minor": 0
}
